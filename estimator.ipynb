{
 "cells": [
  {
   "cell_type": "code",
   "execution_count": 29,
   "source": [
    "import pandas as pd \n",
    "import tensorflow as tf\n"
   ],
   "outputs": [],
   "metadata": {}
  },
  {
   "cell_type": "code",
   "execution_count": null,
   "source": [
    "CSV_COLUMN_NAMES = ['SepalLength', 'SepalWidth', 'PetalLength', 'PetalWidth', 'Species']\n",
    "SPECIES = ['Setosa', 'Versicolor', 'Virginica']"
   ],
   "outputs": [],
   "metadata": {}
  },
  {
   "cell_type": "code",
   "execution_count": null,
   "source": [
    "train_path = tf.keras.utils.get_file(\n",
    "    \"iris_training.csv\", \"https://storage.googleapis.com/download.tensorflow.org/data/iris_training.csv\")\n",
    "test_path = tf.keras.utils.get_file(\n",
    "    \"iris_test.csv\", \"https://storage.googleapis.com/download.tensorflow.org/data/iris_test.csv\")\n",
    "\n",
    "train = pd.read_csv(train_path, names=CSV_COLUMN_NAMES, header=0)\n",
    "test = pd.read_csv(test_path, names=CSV_COLUMN_NAMES, header=0)"
   ],
   "outputs": [],
   "metadata": {}
  },
  {
   "cell_type": "code",
   "execution_count": null,
   "source": [
    "train.shape\n",
    "train.head()"
   ],
   "outputs": [
    {
     "output_type": "execute_result",
     "data": {
      "text/html": [
       "<div>\n",
       "<style scoped>\n",
       "    .dataframe tbody tr th:only-of-type {\n",
       "        vertical-align: middle;\n",
       "    }\n",
       "\n",
       "    .dataframe tbody tr th {\n",
       "        vertical-align: top;\n",
       "    }\n",
       "\n",
       "    .dataframe thead th {\n",
       "        text-align: right;\n",
       "    }\n",
       "</style>\n",
       "<table border=\"1\" class=\"dataframe\">\n",
       "  <thead>\n",
       "    <tr style=\"text-align: right;\">\n",
       "      <th></th>\n",
       "      <th>SepalLength</th>\n",
       "      <th>SepalWidth</th>\n",
       "      <th>PetalLength</th>\n",
       "      <th>PetalWidth</th>\n",
       "      <th>Species</th>\n",
       "    </tr>\n",
       "  </thead>\n",
       "  <tbody>\n",
       "    <tr>\n",
       "      <th>0</th>\n",
       "      <td>6.4</td>\n",
       "      <td>2.8</td>\n",
       "      <td>5.6</td>\n",
       "      <td>2.2</td>\n",
       "      <td>2</td>\n",
       "    </tr>\n",
       "    <tr>\n",
       "      <th>1</th>\n",
       "      <td>5.0</td>\n",
       "      <td>2.3</td>\n",
       "      <td>3.3</td>\n",
       "      <td>1.0</td>\n",
       "      <td>1</td>\n",
       "    </tr>\n",
       "    <tr>\n",
       "      <th>2</th>\n",
       "      <td>4.9</td>\n",
       "      <td>2.5</td>\n",
       "      <td>4.5</td>\n",
       "      <td>1.7</td>\n",
       "      <td>2</td>\n",
       "    </tr>\n",
       "    <tr>\n",
       "      <th>3</th>\n",
       "      <td>4.9</td>\n",
       "      <td>3.1</td>\n",
       "      <td>1.5</td>\n",
       "      <td>0.1</td>\n",
       "      <td>0</td>\n",
       "    </tr>\n",
       "    <tr>\n",
       "      <th>4</th>\n",
       "      <td>5.7</td>\n",
       "      <td>3.8</td>\n",
       "      <td>1.7</td>\n",
       "      <td>0.3</td>\n",
       "      <td>0</td>\n",
       "    </tr>\n",
       "  </tbody>\n",
       "</table>\n",
       "</div>"
      ],
      "text/plain": [
       "   SepalLength  SepalWidth  PetalLength  PetalWidth  Species\n",
       "0          6.4         2.8          5.6         2.2        2\n",
       "1          5.0         2.3          3.3         1.0        1\n",
       "2          4.9         2.5          4.5         1.7        2\n",
       "3          4.9         3.1          1.5         0.1        0\n",
       "4          5.7         3.8          1.7         0.3        0"
      ]
     },
     "metadata": {},
     "execution_count": 18
    }
   ],
   "metadata": {}
  },
  {
   "cell_type": "code",
   "execution_count": null,
   "source": [
    "train_y= train.pop('Species')"
   ],
   "outputs": [],
   "metadata": {}
  },
  {
   "cell_type": "code",
   "execution_count": null,
   "source": [
    "test.head()"
   ],
   "outputs": [
    {
     "output_type": "execute_result",
     "data": {
      "text/html": [
       "<div>\n",
       "<style scoped>\n",
       "    .dataframe tbody tr th:only-of-type {\n",
       "        vertical-align: middle;\n",
       "    }\n",
       "\n",
       "    .dataframe tbody tr th {\n",
       "        vertical-align: top;\n",
       "    }\n",
       "\n",
       "    .dataframe thead th {\n",
       "        text-align: right;\n",
       "    }\n",
       "</style>\n",
       "<table border=\"1\" class=\"dataframe\">\n",
       "  <thead>\n",
       "    <tr style=\"text-align: right;\">\n",
       "      <th></th>\n",
       "      <th>SepalLength</th>\n",
       "      <th>SepalWidth</th>\n",
       "      <th>PetalLength</th>\n",
       "      <th>PetalWidth</th>\n",
       "      <th>Species</th>\n",
       "    </tr>\n",
       "  </thead>\n",
       "  <tbody>\n",
       "    <tr>\n",
       "      <th>0</th>\n",
       "      <td>5.9</td>\n",
       "      <td>3.0</td>\n",
       "      <td>4.2</td>\n",
       "      <td>1.5</td>\n",
       "      <td>1</td>\n",
       "    </tr>\n",
       "    <tr>\n",
       "      <th>1</th>\n",
       "      <td>6.9</td>\n",
       "      <td>3.1</td>\n",
       "      <td>5.4</td>\n",
       "      <td>2.1</td>\n",
       "      <td>2</td>\n",
       "    </tr>\n",
       "    <tr>\n",
       "      <th>2</th>\n",
       "      <td>5.1</td>\n",
       "      <td>3.3</td>\n",
       "      <td>1.7</td>\n",
       "      <td>0.5</td>\n",
       "      <td>0</td>\n",
       "    </tr>\n",
       "    <tr>\n",
       "      <th>3</th>\n",
       "      <td>6.0</td>\n",
       "      <td>3.4</td>\n",
       "      <td>4.5</td>\n",
       "      <td>1.6</td>\n",
       "      <td>1</td>\n",
       "    </tr>\n",
       "    <tr>\n",
       "      <th>4</th>\n",
       "      <td>5.5</td>\n",
       "      <td>2.5</td>\n",
       "      <td>4.0</td>\n",
       "      <td>1.3</td>\n",
       "      <td>1</td>\n",
       "    </tr>\n",
       "  </tbody>\n",
       "</table>\n",
       "</div>"
      ],
      "text/plain": [
       "   SepalLength  SepalWidth  PetalLength  PetalWidth  Species\n",
       "0          5.9         3.0          4.2         1.5        1\n",
       "1          6.9         3.1          5.4         2.1        2\n",
       "2          5.1         3.3          1.7         0.5        0\n",
       "3          6.0         3.4          4.5         1.6        1\n",
       "4          5.5         2.5          4.0         1.3        1"
      ]
     },
     "metadata": {},
     "execution_count": 20
    }
   ],
   "metadata": {}
  },
  {
   "cell_type": "code",
   "execution_count": null,
   "source": [
    "test_y= test.pop('Species')"
   ],
   "outputs": [],
   "metadata": {}
  },
  {
   "cell_type": "code",
   "execution_count": null,
   "source": [
    "def input_fn(features, labels, training=True, batch_size=256):\n",
    "    \"\"\"An input function for training or evaluating\"\"\"\n",
    "    # Convert the inputs to a Dataset.\n",
    "    dataset = tf.data.Dataset.from_tensor_slices((dict(features), labels))\n",
    "\n",
    "    # Shuffle and repeat if you are in training mode.\n",
    "    if training:\n",
    "        dataset = dataset.shuffle(1000).repeat()\n",
    "\n",
    "    return dataset.batch(batch_size)"
   ],
   "outputs": [],
   "metadata": {}
  },
  {
   "cell_type": "code",
   "execution_count": null,
   "source": [
    "my_feature_column=[]\n",
    "for key in train.keys():\n",
    "    my_feature_column.append(tf.feature_column.numeric_column(key=key))"
   ],
   "outputs": [],
   "metadata": {}
  },
  {
   "cell_type": "markdown",
   "source": [
    "we need classifier , this is the way to train my model. classiffir have more way to tr0ain, we have to choose the best way."
   ],
   "metadata": {}
  },
  {
   "cell_type": "code",
   "execution_count": null,
   "source": [
    "classifier= tf.estimator.DNNClassifier(feature_columns=my_feature_column, hidden_units=[30,10], n_classes=3)"
   ],
   "outputs": [
    {
     "output_type": "stream",
     "name": "stdout",
     "text": [
      "INFO:tensorflow:Using default config.\n",
      "WARNING:tensorflow:Using temporary folder as model directory: /var/folders/rc/j6ylj8cs7dn98z_r4w_1t2000000gn/T/tmp_fynx37v\n",
      "INFO:tensorflow:Using config: {'_model_dir': '/var/folders/rc/j6ylj8cs7dn98z_r4w_1t2000000gn/T/tmp_fynx37v', '_tf_random_seed': None, '_save_summary_steps': 100, '_save_checkpoints_steps': None, '_save_checkpoints_secs': 600, '_session_config': allow_soft_placement: true\n",
      "graph_options {\n",
      "  rewrite_options {\n",
      "    meta_optimizer_iterations: ONE\n",
      "  }\n",
      "}\n",
      ", '_keep_checkpoint_max': 5, '_keep_checkpoint_every_n_hours': 10000, '_log_step_count_steps': 100, '_train_distribute': None, '_device_fn': None, '_protocol': None, '_eval_distribute': None, '_experimental_distribute': None, '_experimental_max_worker_delay_secs': None, '_session_creation_timeout_secs': 7200, '_checkpoint_save_graph_def': True, '_service': None, '_cluster_spec': ClusterSpec({}), '_task_type': 'worker', '_task_id': 0, '_global_id_in_cluster': 0, '_master': '', '_evaluation_master': '', '_is_chief': True, '_num_ps_replicas': 0, '_num_worker_replicas': 1}\n"
     ]
    }
   ],
   "metadata": {}
  },
  {
   "cell_type": "code",
   "execution_count": 25,
   "source": [
    "# Train the Model.\n",
    "classifier.train(\n",
    "    input_fn=lambda: input_fn(train, train_y, training=True),\n",
    "    steps=5000)"
   ],
   "outputs": [
    {
     "output_type": "stream",
     "name": "stdout",
     "text": [
      "INFO:tensorflow:Calling model_fn.\n",
      "INFO:tensorflow:Done calling model_fn.\n",
      "INFO:tensorflow:Create CheckpointSaverHook.\n",
      "INFO:tensorflow:Graph was finalized.\n",
      "INFO:tensorflow:Running local_init_op.\n",
      "INFO:tensorflow:Done running local_init_op.\n",
      "INFO:tensorflow:Calling checkpoint listeners before saving checkpoint 0...\n",
      "INFO:tensorflow:Saving checkpoints for 0 into /var/folders/rc/j6ylj8cs7dn98z_r4w_1t2000000gn/T/tmp_fynx37v/model.ckpt.\n",
      "INFO:tensorflow:Calling checkpoint listeners after saving checkpoint 0...\n"
     ]
    },
    {
     "output_type": "stream",
     "name": "stderr",
     "text": [
      "2021-09-21 13:06:11.187623: I tensorflow/core/common_runtime/pluggable_device/pluggable_device_factory.cc:305] Could not identify NUMA node of platform GPU ID 0, defaulting to 0. Your kernel may not have been built with NUMA support.\n",
      "2021-09-21 13:06:11.187641: I tensorflow/core/common_runtime/pluggable_device/pluggable_device_factory.cc:271] Created TensorFlow device (/job:localhost/replica:0/task:0/device:GPU:0 with 0 MB memory) -> physical PluggableDevice (device: 0, name: METAL, pci bus id: <undefined>)\n",
      "2021-09-21 13:06:11.196854: I tensorflow/core/grappler/optimizers/custom_graph_optimizer_registry.cc:112] Plugin optimizer for device_type GPU is enabled.\n",
      "2021-09-21 13:06:11.208319: I tensorflow/core/grappler/optimizers/custom_graph_optimizer_registry.cc:112] Plugin optimizer for device_type GPU is enabled.\n",
      "2021-09-21 13:06:11.216400: I tensorflow/core/grappler/optimizers/custom_graph_optimizer_registry.cc:112] Plugin optimizer for device_type GPU is enabled.\n",
      "2021-09-21 13:06:11.219698: I tensorflow/core/grappler/optimizers/custom_graph_optimizer_registry.cc:112] Plugin optimizer for device_type GPU is enabled.\n",
      "2021-09-21 13:06:11.228075: I tensorflow/core/grappler/optimizers/custom_graph_optimizer_registry.cc:112] Plugin optimizer for device_type GPU is enabled.\n",
      "2021-09-21 13:06:11.321887: I tensorflow/core/grappler/optimizers/custom_graph_optimizer_registry.cc:112] Plugin optimizer for device_type GPU is enabled.\n",
      "2021-09-21 13:06:11.350783: I tensorflow/core/grappler/optimizers/custom_graph_optimizer_registry.cc:112] Plugin optimizer for device_type GPU is enabled.\n",
      "2021-09-21 13:06:11.358178: I tensorflow/core/grappler/optimizers/custom_graph_optimizer_registry.cc:112] Plugin optimizer for device_type GPU is enabled.\n"
     ]
    },
    {
     "output_type": "stream",
     "name": "stdout",
     "text": [
      "INFO:tensorflow:loss = 1.4078412, step = 0\n"
     ]
    },
    {
     "output_type": "stream",
     "name": "stderr",
     "text": [
      "2021-09-21 13:06:11.428676: I tensorflow/core/grappler/optimizers/custom_graph_optimizer_registry.cc:112] Plugin optimizer for device_type GPU is enabled.\n"
     ]
    },
    {
     "output_type": "stream",
     "name": "stdout",
     "text": [
      "INFO:tensorflow:global_step/sec: 131.449\n",
      "INFO:tensorflow:loss = 1.09599, step = 100 (0.761 sec)\n",
      "INFO:tensorflow:global_step/sec: 144.775\n",
      "INFO:tensorflow:loss = 1.0307826, step = 200 (0.691 sec)\n",
      "INFO:tensorflow:global_step/sec: 149.192\n",
      "INFO:tensorflow:loss = 0.99438655, step = 300 (0.670 sec)\n",
      "INFO:tensorflow:global_step/sec: 141.074\n",
      "INFO:tensorflow:loss = 0.9611729, step = 400 (0.709 sec)\n",
      "INFO:tensorflow:global_step/sec: 145.194\n",
      "INFO:tensorflow:loss = 0.9311281, step = 500 (0.688 sec)\n",
      "INFO:tensorflow:global_step/sec: 155.473\n",
      "INFO:tensorflow:loss = 0.9020645, step = 600 (0.643 sec)\n",
      "INFO:tensorflow:global_step/sec: 155.957\n",
      "INFO:tensorflow:loss = 0.8774582, step = 700 (0.641 sec)\n",
      "INFO:tensorflow:global_step/sec: 157.218\n",
      "INFO:tensorflow:loss = 0.8641559, step = 800 (0.636 sec)\n",
      "INFO:tensorflow:global_step/sec: 157.321\n",
      "INFO:tensorflow:loss = 0.838446, step = 900 (0.636 sec)\n",
      "INFO:tensorflow:global_step/sec: 143.568\n",
      "INFO:tensorflow:loss = 0.8135127, step = 1000 (0.697 sec)\n",
      "INFO:tensorflow:global_step/sec: 147.339\n",
      "INFO:tensorflow:loss = 0.80356026, step = 1100 (0.683 sec)\n",
      "INFO:tensorflow:global_step/sec: 138.118\n",
      "INFO:tensorflow:loss = 0.78283584, step = 1200 (0.720 sec)\n",
      "INFO:tensorflow:global_step/sec: 153.917\n",
      "INFO:tensorflow:loss = 0.77331644, step = 1300 (0.650 sec)\n",
      "INFO:tensorflow:global_step/sec: 142.666\n",
      "INFO:tensorflow:loss = 0.7618859, step = 1400 (0.701 sec)\n",
      "INFO:tensorflow:global_step/sec: 154.407\n",
      "INFO:tensorflow:loss = 0.75181794, step = 1500 (0.648 sec)\n",
      "INFO:tensorflow:global_step/sec: 153.25\n",
      "INFO:tensorflow:loss = 0.7309701, step = 1600 (0.653 sec)\n",
      "INFO:tensorflow:global_step/sec: 154.617\n",
      "INFO:tensorflow:loss = 0.7272026, step = 1700 (0.647 sec)\n",
      "INFO:tensorflow:global_step/sec: 157.143\n",
      "INFO:tensorflow:loss = 0.7130755, step = 1800 (0.636 sec)\n",
      "INFO:tensorflow:global_step/sec: 149.663\n",
      "INFO:tensorflow:loss = 0.70306647, step = 1900 (0.668 sec)\n",
      "INFO:tensorflow:global_step/sec: 136.964\n",
      "INFO:tensorflow:loss = 0.683452, step = 2000 (0.730 sec)\n",
      "INFO:tensorflow:global_step/sec: 140.161\n",
      "INFO:tensorflow:loss = 0.6559996, step = 2100 (0.714 sec)\n",
      "INFO:tensorflow:global_step/sec: 151.478\n",
      "INFO:tensorflow:loss = 0.64255905, step = 2200 (0.660 sec)\n",
      "INFO:tensorflow:global_step/sec: 154.116\n",
      "INFO:tensorflow:loss = 0.63990796, step = 2300 (0.649 sec)\n",
      "INFO:tensorflow:global_step/sec: 157.347\n",
      "INFO:tensorflow:loss = 0.6207143, step = 2400 (0.636 sec)\n",
      "INFO:tensorflow:global_step/sec: 157.086\n",
      "INFO:tensorflow:loss = 0.6272824, step = 2500 (0.637 sec)\n",
      "INFO:tensorflow:global_step/sec: 156.771\n",
      "INFO:tensorflow:loss = 0.61508924, step = 2600 (0.638 sec)\n",
      "INFO:tensorflow:global_step/sec: 156.968\n",
      "INFO:tensorflow:loss = 0.5907935, step = 2700 (0.637 sec)\n",
      "INFO:tensorflow:global_step/sec: 157.885\n",
      "INFO:tensorflow:loss = 0.58273166, step = 2800 (0.633 sec)\n",
      "INFO:tensorflow:global_step/sec: 156.319\n",
      "INFO:tensorflow:loss = 0.5903564, step = 2900 (0.640 sec)\n",
      "INFO:tensorflow:global_step/sec: 149.993\n",
      "INFO:tensorflow:loss = 0.5717016, step = 3000 (0.667 sec)\n",
      "INFO:tensorflow:global_step/sec: 154.882\n",
      "INFO:tensorflow:loss = 0.5636885, step = 3100 (0.646 sec)\n",
      "INFO:tensorflow:global_step/sec: 142.964\n",
      "INFO:tensorflow:loss = 0.56008613, step = 3200 (0.699 sec)\n",
      "INFO:tensorflow:global_step/sec: 146.543\n",
      "INFO:tensorflow:loss = 0.5607572, step = 3300 (0.683 sec)\n",
      "INFO:tensorflow:global_step/sec: 134.486\n",
      "INFO:tensorflow:loss = 0.55550575, step = 3400 (0.743 sec)\n",
      "INFO:tensorflow:global_step/sec: 156.753\n",
      "INFO:tensorflow:loss = 0.5597405, step = 3500 (0.638 sec)\n",
      "INFO:tensorflow:global_step/sec: 153.548\n",
      "INFO:tensorflow:loss = 0.53616416, step = 3600 (0.651 sec)\n",
      "INFO:tensorflow:global_step/sec: 150.286\n",
      "INFO:tensorflow:loss = 0.533565, step = 3700 (0.665 sec)\n",
      "INFO:tensorflow:global_step/sec: 148.487\n",
      "INFO:tensorflow:loss = 0.5256014, step = 3800 (0.673 sec)\n",
      "INFO:tensorflow:global_step/sec: 154.699\n",
      "INFO:tensorflow:loss = 0.52968574, step = 3900 (0.646 sec)\n",
      "INFO:tensorflow:global_step/sec: 155.31\n",
      "INFO:tensorflow:loss = 0.52485394, step = 4000 (0.644 sec)\n",
      "INFO:tensorflow:global_step/sec: 154.927\n",
      "INFO:tensorflow:loss = 0.5116358, step = 4100 (0.645 sec)\n",
      "INFO:tensorflow:global_step/sec: 155.579\n",
      "INFO:tensorflow:loss = 0.5087532, step = 4200 (0.643 sec)\n",
      "INFO:tensorflow:global_step/sec: 155.251\n",
      "INFO:tensorflow:loss = 0.50279903, step = 4300 (0.644 sec)\n",
      "INFO:tensorflow:global_step/sec: 156.776\n",
      "INFO:tensorflow:loss = 0.50868964, step = 4400 (0.638 sec)\n",
      "INFO:tensorflow:global_step/sec: 157.872\n",
      "INFO:tensorflow:loss = 0.50508964, step = 4500 (0.633 sec)\n",
      "INFO:tensorflow:global_step/sec: 158.065\n",
      "INFO:tensorflow:loss = 0.5028801, step = 4600 (0.633 sec)\n",
      "INFO:tensorflow:global_step/sec: 157.486\n",
      "INFO:tensorflow:loss = 0.50167847, step = 4700 (0.635 sec)\n",
      "INFO:tensorflow:global_step/sec: 157.907\n",
      "INFO:tensorflow:loss = 0.48990032, step = 4800 (0.633 sec)\n",
      "INFO:tensorflow:global_step/sec: 157.711\n",
      "INFO:tensorflow:loss = 0.48956138, step = 4900 (0.634 sec)\n",
      "INFO:tensorflow:Calling checkpoint listeners before saving checkpoint 5000...\n",
      "INFO:tensorflow:Saving checkpoints for 5000 into /var/folders/rc/j6ylj8cs7dn98z_r4w_1t2000000gn/T/tmp_fynx37v/model.ckpt.\n",
      "INFO:tensorflow:Calling checkpoint listeners after saving checkpoint 5000...\n",
      "INFO:tensorflow:Loss for final step: 0.48003572.\n"
     ]
    },
    {
     "output_type": "execute_result",
     "data": {
      "text/plain": [
       "<tensorflow_estimator.python.estimator.canned.dnn.DNNClassifierV2 at 0x146964fa0>"
      ]
     },
     "metadata": {},
     "execution_count": 25
    }
   ],
   "metadata": {}
  },
  {
   "cell_type": "code",
   "execution_count": 26,
   "source": [
    "eval_result=classifier.evaluate(input_fn= lambda: input_fn(test, test_y, training=False))\n",
    "print('\\n test accuracy: {accuracy:0.3f}\\n'.format(**eval_result))\n"
   ],
   "outputs": [
    {
     "output_type": "stream",
     "name": "stdout",
     "text": [
      "INFO:tensorflow:Calling model_fn.\n",
      "INFO:tensorflow:Done calling model_fn.\n",
      "INFO:tensorflow:Starting evaluation at 2021-09-21T13:06:45\n",
      "INFO:tensorflow:Graph was finalized.\n",
      "INFO:tensorflow:Restoring parameters from /var/folders/rc/j6ylj8cs7dn98z_r4w_1t2000000gn/T/tmp_fynx37v/model.ckpt-5000\n",
      "INFO:tensorflow:Running local_init_op.\n",
      "INFO:tensorflow:Done running local_init_op.\n",
      "INFO:tensorflow:Inference Time : 0.14668s\n",
      "INFO:tensorflow:Finished evaluation at 2021-09-21-13:06:45\n",
      "INFO:tensorflow:Saving dict for global step 5000: accuracy = 0.73333335, average_loss = 0.5645192, global_step = 5000, loss = 0.5645192\n",
      "INFO:tensorflow:Saving 'checkpoint_path' summary for global step 5000: /var/folders/rc/j6ylj8cs7dn98z_r4w_1t2000000gn/T/tmp_fynx37v/model.ckpt-5000\n",
      "\n",
      " test accuracy: 0.733\n",
      "\n"
     ]
    },
    {
     "output_type": "stream",
     "name": "stderr",
     "text": [
      "2021-09-21 13:06:45.192192: I tensorflow/core/common_runtime/pluggable_device/pluggable_device_factory.cc:305] Could not identify NUMA node of platform GPU ID 0, defaulting to 0. Your kernel may not have been built with NUMA support.\n",
      "2021-09-21 13:06:45.192222: I tensorflow/core/common_runtime/pluggable_device/pluggable_device_factory.cc:271] Created TensorFlow device (/job:localhost/replica:0/task:0/device:GPU:0 with 0 MB memory) -> physical PluggableDevice (device: 0, name: METAL, pci bus id: <undefined>)\n",
      "2021-09-21 13:06:45.205659: I tensorflow/core/grappler/optimizers/custom_graph_optimizer_registry.cc:112] Plugin optimizer for device_type GPU is enabled.\n",
      "2021-09-21 13:06:45.212951: I tensorflow/core/grappler/optimizers/custom_graph_optimizer_registry.cc:112] Plugin optimizer for device_type GPU is enabled.\n",
      "2021-09-21 13:06:45.220318: I tensorflow/core/grappler/optimizers/custom_graph_optimizer_registry.cc:112] Plugin optimizer for device_type GPU is enabled.\n",
      "2021-09-21 13:06:45.226992: I tensorflow/core/grappler/optimizers/custom_graph_optimizer_registry.cc:112] Plugin optimizer for device_type GPU is enabled.\n",
      "2021-09-21 13:06:45.235363: I tensorflow/core/grappler/optimizers/custom_graph_optimizer_registry.cc:112] Plugin optimizer for device_type GPU is enabled.\n",
      "2021-09-21 13:06:45.241314: I tensorflow/core/grappler/optimizers/custom_graph_optimizer_registry.cc:112] Plugin optimizer for device_type GPU is enabled.\n",
      "2021-09-21 13:06:45.290786: I tensorflow/core/grappler/optimizers/custom_graph_optimizer_registry.cc:112] Plugin optimizer for device_type GPU is enabled.\n"
     ]
    }
   ],
   "metadata": {}
  },
  {
   "cell_type": "markdown",
   "source": [
    "NOW, TAKE INPUT FROM THE USER AND PREDICT THE POSSIBLE SPECIES, LET SEE"
   ],
   "metadata": {}
  },
  {
   "cell_type": "code",
   "execution_count": 36,
   "source": [
    "# Generate predictions from the model\n",
    "expected = ['Setosa', 'Versicolor', 'Virginica']\n",
    "predict_x = {\n",
    "    'SepalLength': [5.1, 5.9, 6.9],\n",
    "    'SepalWidth': [3.3, 3.0, 3.1],\n",
    "    'PetalLength': [1.7, 4.2, 5.4],\n",
    "    'PetalWidth': [0.5, 1.5, 2.1],\n",
    "}\n",
    "\n",
    "def input_fn(features, batch_size=256):\n",
    "    \"\"\"An input function for prediction.\"\"\"\n",
    "    # Convert the inputs to a Dataset without labels.\n",
    "    return tf.data.Dataset.from_tensor_slices(dict(features)).batch(batch_size)\n",
    "\n",
    "predictions = classifier.predict(\n",
    "    input_fn=lambda: input_fn(predict_x))\n",
    "for pred_dict, expec in zip(predictions, expected):\n",
    "    class_id = pred_dict['class_ids'][0]\n",
    "    probability = pred_dict['probabilities'][class_id]\n",
    "\n",
    "    print('Prediction is \"{}\" ({:.1f}%), expected \"{}\"'.format(\n",
    "        SPECIES[class_id], 100 * probability, expec))"
   ],
   "outputs": [
    {
     "output_type": "stream",
     "name": "stdout",
     "text": [
      "INFO:tensorflow:Calling model_fn.\n",
      "INFO:tensorflow:Done calling model_fn.\n",
      "INFO:tensorflow:Graph was finalized.\n",
      "INFO:tensorflow:Restoring parameters from /var/folders/rc/j6ylj8cs7dn98z_r4w_1t2000000gn/T/tmp_fynx37v/model.ckpt-5000\n",
      "INFO:tensorflow:Running local_init_op.\n",
      "INFO:tensorflow:Done running local_init_op.\n",
      "Prediction is \"Setosa\" (86.5%), expected \"Setosa\"\n",
      "Prediction is \"Virginica\" (44.9%), expected \"Versicolor\"\n",
      "Prediction is \"Virginica\" (53.9%), expected \"Virginica\"\n"
     ]
    },
    {
     "output_type": "stream",
     "name": "stderr",
     "text": [
      "2021-09-21 13:15:55.626707: I tensorflow/core/common_runtime/pluggable_device/pluggable_device_factory.cc:305] Could not identify NUMA node of platform GPU ID 0, defaulting to 0. Your kernel may not have been built with NUMA support.\n",
      "2021-09-21 13:15:55.626726: I tensorflow/core/common_runtime/pluggable_device/pluggable_device_factory.cc:271] Created TensorFlow device (/job:localhost/replica:0/task:0/device:GPU:0 with 0 MB memory) -> physical PluggableDevice (device: 0, name: METAL, pci bus id: <undefined>)\n",
      "2021-09-21 13:15:55.634239: I tensorflow/core/grappler/optimizers/custom_graph_optimizer_registry.cc:112] Plugin optimizer for device_type GPU is enabled.\n",
      "2021-09-21 13:15:55.642175: I tensorflow/core/grappler/optimizers/custom_graph_optimizer_registry.cc:112] Plugin optimizer for device_type GPU is enabled.\n",
      "2021-09-21 13:15:55.648530: I tensorflow/core/grappler/optimizers/custom_graph_optimizer_registry.cc:112] Plugin optimizer for device_type GPU is enabled.\n",
      "2021-09-21 13:15:55.652067: I tensorflow/core/grappler/optimizers/custom_graph_optimizer_registry.cc:112] Plugin optimizer for device_type GPU is enabled.\n",
      "2021-09-21 13:15:55.657887: I tensorflow/core/grappler/optimizers/custom_graph_optimizer_registry.cc:112] Plugin optimizer for device_type GPU is enabled.\n",
      "2021-09-21 13:15:55.662526: I tensorflow/core/grappler/optimizers/custom_graph_optimizer_registry.cc:112] Plugin optimizer for device_type GPU is enabled.\n"
     ]
    }
   ],
   "metadata": {}
  },
  {
   "cell_type": "code",
   "execution_count": 38,
   "source": [
    "def input_fn(features, batch_size=256):\n",
    "    return tf.data.Dataset.from_tensor_slices(dict(features)).batch(batch_size)\n",
    "    \n",
    "\n",
    "\n",
    "features=['SepalLength', 'SepalWidth', 'PetalLength', 'PetalWidth']\n",
    "predict={}\n",
    "\n",
    "print(\"enter the values\")\n",
    "for feature in features:\n",
    "    valid= True\n",
    "    while valid:\n",
    "        val= input(feature +\": \")\n",
    "        if not val.isdigit(): valid= False\n",
    "    predict[feature]=[float(val)]\n",
    "\n",
    "prediction= classifier.predict(input_fn= lambda: input_fn(predict))\n",
    "\n",
    "for pred_dect in prediction:\n",
    "    classid= pred_dect['class_ids'][0]\n",
    "    probability=pred_dect['probabilities'][classid]\n",
    "\n",
    "\n",
    "    print(\"prediction id {}, ({:.1f}%)\".format(SPECIES[classid], 100*probability))"
   ],
   "outputs": [
    {
     "output_type": "stream",
     "name": "stdout",
     "text": [
      "enter the values\n",
      "INFO:tensorflow:Calling model_fn.\n",
      "INFO:tensorflow:Done calling model_fn.\n",
      "INFO:tensorflow:Graph was finalized.\n",
      "INFO:tensorflow:Restoring parameters from /var/folders/rc/j6ylj8cs7dn98z_r4w_1t2000000gn/T/tmp_fynx37v/model.ckpt-5000\n",
      "INFO:tensorflow:Running local_init_op.\n",
      "INFO:tensorflow:Done running local_init_op.\n",
      "prediction id Setosa, (91.1%)\n"
     ]
    },
    {
     "output_type": "stream",
     "name": "stderr",
     "text": [
      "2021-09-21 13:17:03.694046: I tensorflow/core/common_runtime/pluggable_device/pluggable_device_factory.cc:305] Could not identify NUMA node of platform GPU ID 0, defaulting to 0. Your kernel may not have been built with NUMA support.\n",
      "2021-09-21 13:17:03.694062: I tensorflow/core/common_runtime/pluggable_device/pluggable_device_factory.cc:271] Created TensorFlow device (/job:localhost/replica:0/task:0/device:GPU:0 with 0 MB memory) -> physical PluggableDevice (device: 0, name: METAL, pci bus id: <undefined>)\n",
      "2021-09-21 13:17:03.700999: I tensorflow/core/grappler/optimizers/custom_graph_optimizer_registry.cc:112] Plugin optimizer for device_type GPU is enabled.\n",
      "2021-09-21 13:17:03.708290: I tensorflow/core/grappler/optimizers/custom_graph_optimizer_registry.cc:112] Plugin optimizer for device_type GPU is enabled.\n",
      "2021-09-21 13:17:03.714841: I tensorflow/core/grappler/optimizers/custom_graph_optimizer_registry.cc:112] Plugin optimizer for device_type GPU is enabled.\n",
      "2021-09-21 13:17:03.717852: I tensorflow/core/grappler/optimizers/custom_graph_optimizer_registry.cc:112] Plugin optimizer for device_type GPU is enabled.\n",
      "2021-09-21 13:17:03.723592: I tensorflow/core/grappler/optimizers/custom_graph_optimizer_registry.cc:112] Plugin optimizer for device_type GPU is enabled.\n",
      "2021-09-21 13:17:03.728266: I tensorflow/core/grappler/optimizers/custom_graph_optimizer_registry.cc:112] Plugin optimizer for device_type GPU is enabled.\n"
     ]
    }
   ],
   "metadata": {}
  },
  {
   "cell_type": "markdown",
   "source": [],
   "metadata": {}
  }
 ],
 "metadata": {
  "orig_nbformat": 4,
  "language_info": {
   "name": "python",
   "version": "3.8.11",
   "mimetype": "text/x-python",
   "codemirror_mode": {
    "name": "ipython",
    "version": 3
   },
   "pygments_lexer": "ipython3",
   "nbconvert_exporter": "python",
   "file_extension": ".py"
  },
  "kernelspec": {
   "name": "python3",
   "display_name": "Python 3.8.11 64-bit ('mlp': conda)"
  },
  "interpreter": {
   "hash": "3763e87df73b9914d5c6e87c5345aa27f2e42fb89365d5bbbbb949d28fbdafbf"
  }
 },
 "nbformat": 4,
 "nbformat_minor": 2
}